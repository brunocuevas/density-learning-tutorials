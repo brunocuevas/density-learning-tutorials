{
 "cells": [
  {
   "cell_type": "markdown",
   "id": "de4fba35-8000-4bce-b92c-518bffba356e",
   "metadata": {},
   "source": [
    "# A3MDnet tutorial\n"
   ]
  },
  {
   "cell_type": "markdown",
   "id": "23047b40-561a-4d9b-bf4e-95adda74fa24",
   "metadata": {},
   "source": [
    "## Building a small suggar benchmark database\n",
    "\n",
    "We have made a fast search in Zinc15 to adquire molecules that contain suggars. These molecules can be too large for QM calculations, so we might just employ those that have less than 40 atoms. Besides, the methodology is still on development for second row atoms, so we will keep only thosee containing C,H,N and O atoms.\n",
    "\n",
    "We will read a list of SMILES, embed the molecules in 3D structures, optimize those using the Merk Molecular Field, and then optimize them again using TorchANI potentials. The resulting structures will be employed to generate electron densities."
   ]
  },
  {
   "cell_type": "code",
   "execution_count": 1,
   "id": "62930e02-926d-4acc-a849-0138f67a3e18",
   "metadata": {},
   "outputs": [
    {
     "name": "stderr",
     "output_type": "stream",
     "text": [
      "RDKit WARNING: [23:35:57] Enabling RDKit 2019.09.3 jupyter extensions\n",
      "[23:35:57] Enabling RDKit 2019.09.3 jupyter extensions\n"
     ]
    }
   ],
   "source": [
    "import rdkit.Chem as Chem\n",
    "import rdkit.Chem.AllChem as AllChem"
   ]
  },
  {
   "cell_type": "code",
   "execution_count": 2,
   "id": "7c8a1c92-b884-4b4f-a1bb-28dea9251abf",
   "metadata": {},
   "outputs": [],
   "source": [
    "def has_not_allowed_atoms(mol, allowed_elements):\n",
    "    symbols = [i.GetSymbol() for i in mol.GetAtoms()]\n",
    "    if any([i not in allowed_elements for i in allowed_elements]):\n",
    "        return True\n",
    "    else:\n",
    "        return False"
   ]
  },
  {
   "cell_type": "code",
   "execution_count": 3,
   "id": "064a6c43-ac94-4ebf-9fa8-b8120cbe76c9",
   "metadata": {},
   "outputs": [],
   "source": [
    "# Reading SMILES \n",
    "with open('substances.smi') as f:\n",
    "    smi = [Chem.MolFromSmiles(i) for i in f.readlines()]"
   ]
  },
  {
   "cell_type": "code",
   "execution_count": 4,
   "id": "4029f997-36ad-4ca6-9320-19495f278669",
   "metadata": {},
   "outputs": [],
   "source": [
    "# Embedding and Optimizing Smiles\n",
    "embed_mols = []\n",
    "for i in smi:\n",
    "    if i.GetNumHeavyAtoms() > 30: continue\n",
    "    if has_not_allowed_atoms(i, ['C', 'H', 'N', 'O']): continue\n",
    "    u = Chem.AddHs(i)\n",
    "    AllChem.EmbedMolecule(u)\n",
    "    try:\n",
    "        AllChem.MMFFOptimizeMolecule(u)\n",
    "    except ValueError:\n",
    "        continue\n",
    "    embed_mols.append(u)"
   ]
  },
  {
   "cell_type": "code",
   "execution_count": 5,
   "id": "e7c218da-6971-41d4-ae13-f7e8ab4d0024",
   "metadata": {},
   "outputs": [],
   "source": [
    "# Saving the molecules in Mol format (rdkit does not support Mol2 format)\n",
    "for i, mol in enumerate(embed_mols):\n",
    "    Chem.MolToMolFile(mol, './mol/sugbench_{:06d}.mol'.format(i))"
   ]
  },
  {
   "cell_type": "markdown",
   "id": "8cdcec31-968d-4a05-a089-28aca9ee4410",
   "metadata": {},
   "source": [
    "Now we will translate the mol format to mol2 format. While we could keep working in Mol format, Mol2 has a specific column for charges and for segments, thus it is more convinient for our methodology. We will use obabel for that."
   ]
  },
  {
   "cell_type": "code",
   "execution_count": null,
   "id": "af6c8c1c-9073-4a5c-8b14-ebc9c91a0197",
   "metadata": {},
   "outputs": [],
   "source": [
    "%%bash\n",
    "cd ./mol\n",
    "ls *.mol | sed \"s/.mol//g\" | xargs -I % -P 8 obabel -i mol %.mol -o mol2 -O ../mol2/%.mol2"
   ]
  },
  {
   "cell_type": "markdown",
   "id": "a2ebbb76-d4a3-4fec-83b5-21421908097c",
   "metadata": {},
   "source": [
    "Now we shall optimize the molecules using TorchANI potentials. Though we could code these instructions, we have seen different examples of optimization, though we will use a script from a3md-utils for this task."
   ]
  },
  {
   "cell_type": "code",
   "execution_count": 8,
   "id": "6dda3d8a-1749-4c96-84ff-d58e83f89978",
   "metadata": {},
   "outputs": [
    {
     "name": "stdout",
     "output_type": "stream",
     "text": [
      "Process is interrupted.\n"
     ]
    }
   ],
   "source": [
    "%%bash\n",
    "cd ./mol2/\n",
    "source ~/miniconda3/etc/profile.d/conda.sh\n",
    "conda activate a3md\n",
    "export A3MDSCRIPTS=\"\"  # Include path to a3md/scripts \n",
    "ls *.mol2 | sed \"s/.mol2//g\" | xargs -I % python3 ${A3MDSCRIPTS}/conformational.py optimize --model=ani1ccx --output %.opt.mol2 %.mol2 "
   ]
  },
  {
   "cell_type": "markdown",
   "id": "e10445b4-da48-4a1b-95a5-fae9c7293197",
   "metadata": {},
   "source": [
    "Now we can generate the orca input files, and submit the calculations to a given QM cluster. We will use again one of the scripts of the a3md-utils library to avoid the burdensome task of writing orca input files."
   ]
  },
  {
   "cell_type": "code",
   "execution_count": null,
   "id": "21958291-a588-43ee-8d7f-ac28fb3edbfd",
   "metadata": {},
   "outputs": [],
   "source": [
    "%%bash\n",
    "cd ./mol2/\n",
    "source ~/miniconda3/etc/profile.d/conda.sh\n",
    "conda activate a3md\n",
    "export A3MDSCRIPTS=\"\" # Include path to a3md/scripts \n",
    "ls *.opt.mol2 > .input\n",
    "python3 ${A3MDSCRIPTS}/utils.py many-prepare-qm --method=wB97X --basis=\"6-31+G*\" --program=orca .input\n",
    "ls *.orca | xargs sed -i \"s/PAL4 AIM/g\""
   ]
  },
  {
   "cell_type": "markdown",
   "id": "9430fadf-1515-48d6-8b84-b0e752b1a615",
   "metadata": {},
   "source": [
    "QM calculations can be run elsewhere (e.g., a cluster). For those that cannot run the calculations, we included the WFN outputs in the folder wfn. "
   ]
  },
  {
   "cell_type": "markdown",
   "id": "74aeb537-f419-4457-b7b9-f8c4379fb436",
   "metadata": {},
   "source": [
    "**Proposed exercise**: Replace the Gaussian/Orca qm code by PySCF, using tricks from the previous tutorial."
   ]
  },
  {
   "cell_type": "markdown",
   "id": "f98d399a-8a03-4266-aa31-92add4c43501",
   "metadata": {},
   "source": [
    "## Compiling the database\n",
    "\n",
    "We will use another script to calculate the density matrix of each molecule, and to compile all the wfn information"
   ]
  },
  {
   "cell_type": "code",
   "execution_count": 9,
   "id": "9a423957-cbed-4cda-bd41-2db73f021fc4",
   "metadata": {},
   "outputs": [],
   "source": [
    "%%bash\n",
    "cd wfn\n",
    "tar xfz sugbench.wfx.tar.gz"
   ]
  },
  {
   "cell_type": "code",
   "execution_count": null,
   "id": "f93082be-5d9d-4cfe-a5f2-6ea94238840b",
   "metadata": {},
   "outputs": [],
   "source": [
    "%%bash\n",
    "source /home/bcz/miniconda3/etc/profile.d/conda.sh\n",
    "conda activate a3md\n",
    "export A3MDSCRIPTS=\"\"\n",
    "cd wfn/\n",
    "ls *.opt.orca.wfx > .input\n",
    "python3 ${A3MDSCRIPTS}/utils.py many-compile-wfn --input_type=wfx .input sugbench.wfn.h5"
   ]
  },
  {
   "cell_type": "markdown",
   "id": "81171115-6381-426f-a28f-00f973503383",
   "metadata": {},
   "source": [
    "The resulting H5 file contains all the information about the wave-function stored as a dictionary. We can access its contents in an interactive way:"
   ]
  },
  {
   "cell_type": "code",
   "execution_count": 10,
   "id": "fa973bb5-fe20-44f1-bc39-6316638d0398",
   "metadata": {},
   "outputs": [],
   "source": [
    "import h5py"
   ]
  },
  {
   "cell_type": "code",
   "execution_count": 11,
   "id": "d60ce69c-308b-4f02-8a0c-5cabd2c9efe0",
   "metadata": {},
   "outputs": [
    {
     "name": "stdout",
     "output_type": "stream",
     "text": [
      "[b'C' b'C' b'O' b'O' b'C' b'C' b'O' b'C' b'O' b'C']\n"
     ]
    }
   ],
   "source": [
    "f = h5py.File('./wfn/sugbench.wfn.h5', 'r')\n",
    "print(f['sugbench_000000.opt.orca']['atomic_symbols'][:10])\n",
    "f.close()"
   ]
  },
  {
   "cell_type": "markdown",
   "id": "dc0c5c6f-13a8-4c31-ac98-688bee1f3ea0",
   "metadata": {},
   "source": [
    "## Adquiring data\n",
    "\n",
    "Models are usually trained on heavy amounts of data. The original A3MDnet models have been trained using thousands of molecules from different sources. Yet, this might be difficult to carry out in a personal computer, so we will perform a toy training with only a fraction of such dataset.\n",
    "\n",
    "We will employ the GDB7, containing organic molecules with up to seven heavy atoms.\n"
   ]
  },
  {
   "cell_type": "code",
   "execution_count": null,
   "id": "671d575f-ba3d-4b12-a424-37a61c4fc404",
   "metadata": {},
   "outputs": [],
   "source": [
    "%%bash \n",
    "\n",
    "wget https://zenodo.org/record/4542915/files/gdb7.wfn.h5\n",
    "wget https://zenodo.org/record/4542915/files/gdb7.index\n",
    "wget https://zenodo.org/record/4542915/files/gdb7.json\n",
    "    \n",
    "mv gdb7.wfn.h5 ./training_data/\n",
    "mv gdb7.index ./training_data/\n",
    "mv gdb7.json ./training_data/"
   ]
  },
  {
   "cell_type": "markdown",
   "id": "7b356be3-8476-4c5a-9c09-22319b40e1c4",
   "metadata": {},
   "source": [
    "We might truncate the dataset to make training faster"
   ]
  },
  {
   "cell_type": "code",
   "execution_count": 48,
   "id": "573c605a-1b2f-4be7-b852-fb22bdee8267",
   "metadata": {},
   "outputs": [],
   "source": [
    "%%bash\n",
    "cat training_data/gdb7.index | shuf | head -n 1000 > training_data/gdb7.shuf.index\n",
    "sed -i \"s/gdb7.index/gdb7.shuf.index/g\" training_data/gdb7.json"
   ]
  },
  {
   "cell_type": "markdown",
   "id": "0861726f-4081-47e3-b914-69d036dc4182",
   "metadata": {},
   "source": [
    "## Building an ML model\n",
    "\n",
    "The A3MDnet architecture is based on different modules: embeddings, message-passing, normalization, aggregation, and density. We will build a custom predictor employing a3mdnet layers."
   ]
  },
  {
   "cell_type": "code",
   "execution_count": 1,
   "id": "94c78611-8433-4640-972b-085b94be6d50",
   "metadata": {},
   "outputs": [],
   "source": [
    "import torch\n",
    "from torch import nn\n",
    "from a3mdnet.graph import NodeConvolve, NodePool, EdgePool, TopKEdges, MolecularEmbedding, MessagePassing\n",
    "from a3mdnet.density_models import GenAMD, HarmonicGenAMD\n",
    "from a3mdnet.data import AMDParameters\n",
    "from a3mdnet.modules import TranslateAtomicSymbols\n",
    "from a3mdnet.models.ddnn import A3MDnet"
   ]
  },
  {
   "cell_type": "code",
   "execution_count": 2,
   "id": "3d411a6f-0ddf-4be1-9140-9cfb723e0aae",
   "metadata": {},
   "outputs": [],
   "source": [
    "class TDNN3(nn.Module):\n",
    "    def __init__(\n",
    "            self\n",
    "    ):\n",
    "        super(TDNN3, self).__init__()\n",
    "        self.emb = MolecularEmbedding(n_species=6, embedding_dim=128)\n",
    "        self.conv = NodeConvolve(\n",
    "            distances=[1.88, 3.76, 5.64, 7.52], widths=[1.88, 1.88, 1.88, 1.88], \n",
    "            net=nn.Sequential(nn.Linear(640, 256), nn.Tanh(), nn.Linear(256, 128)), \n",
    "            update_ratio=0.1)\n",
    "        self.pool = NodePool(net=nn.Sequential(nn.Linear(128, 64), nn.Tanh(), nn.Linear(64, 8)))\n",
    "        self.edge = TopKEdges(k=4, rc=8.0, net=nn.Sequential(nn.Linear(256, 128), nn.Tanh(), nn.Linear(128, 9)))\n",
    "        self.n = 3\n",
    "        self.decay = 0.5\n",
    "\n",
    "    def forward(self, x):\n",
    "        x = self.emb(x)\n",
    "        for i in range(self.n):\n",
    "            x = self.conv(x, decay=(self.decay**i))\n",
    "        c_iso = self.pool(x)[1]\n",
    "        c_aniso = self.edge(x)[2]\n",
    "        return c_iso, c_aniso.reshape(c_aniso.shape[0], c_aniso.shape[1], -1, c_aniso.shape[4])\n",
    "    "
   ]
  },
  {
   "cell_type": "code",
   "execution_count": 3,
   "id": "0e0a2ca6-f9f9-4fcc-95a4-23ed1ab3f897",
   "metadata": {},
   "outputs": [],
   "source": [
    "tdnn3 = TDNN3()\n",
    "table = {1: 0, 6: 1, 7: 2, 8: 3, 16: 4, -1: -1}\n",
    "prodensity_params = AMDParameters.from_file('params/a3md_promolecule.json')\n",
    "isodensity_params = AMDParameters.from_file('params/a3md_isotropic_basis.json')\n",
    "anidenisty_params = AMDParameters.from_file('params/a3md_anisotropic_basis.json')\n",
    "prodensity = GenAMD(prodensity_params, table=table)\n",
    "isodensity = GenAMD(isodensity_params, table=table)\n",
    "anidensity = HarmonicGenAMD(anidenisty_params, k=4, max_angular_moment=3, table=table)"
   ]
  },
  {
   "cell_type": "markdown",
   "id": "1718c8a6-abe5-48d6-9d6b-0506ba522da9",
   "metadata": {},
   "source": [
    "The custom predictor interacts with electron density inside an A3MDnet model."
   ]
  },
  {
   "cell_type": "code",
   "execution_count": 4,
   "id": "70d32ab4-e1ad-4e70-8c11-0fa46c2585fd",
   "metadata": {},
   "outputs": [
    {
     "data": {
      "text/plain": [
       "A3MDnet(\n",
       "  (predictor): TDNN3(\n",
       "    (emb): MolecularEmbedding(\n",
       "      (map): Embedding(7, 128)\n",
       "    )\n",
       "    (conv): NodeConvolve(\n",
       "      (net): Sequential(\n",
       "        (0): Linear(in_features=640, out_features=256, bias=True)\n",
       "        (1): Tanh()\n",
       "        (2): Linear(in_features=256, out_features=128, bias=True)\n",
       "      )\n",
       "    )\n",
       "    (pool): NodePool(\n",
       "      (net): Sequential(\n",
       "        (0): Linear(in_features=128, out_features=64, bias=True)\n",
       "        (1): Tanh()\n",
       "        (2): Linear(in_features=64, out_features=8, bias=True)\n",
       "      )\n",
       "    )\n",
       "    (edge): TopKEdges(\n",
       "      (net): Sequential(\n",
       "        (0): Linear(in_features=256, out_features=128, bias=True)\n",
       "        (1): Tanh()\n",
       "        (2): Linear(in_features=128, out_features=9, bias=True)\n",
       "      )\n",
       "    )\n",
       "  )\n",
       "  (density): GenAMD()\n",
       "  (proto): GenAMD()\n",
       "  (deformation): HarmonicGenAMD()\n",
       "  (translate): TranslateAtomicSymbols()\n",
       ")"
      ]
     },
     "execution_count": 4,
     "metadata": {},
     "output_type": "execute_result"
    }
   ],
   "source": [
    "model = A3MDnet(tdnn3, prodensity, isodensity, anidensity, table)\n",
    "model"
   ]
  },
  {
   "cell_type": "markdown",
   "id": "1ee495d7-1aa7-48fe-b5c6-afe54de82367",
   "metadata": {},
   "source": [
    "### Training\n",
    "\n",
    "We will train the Neural Network by mini-batch optimization, using an ADAM optimization algorithm for weight updates, and we will adjust the learning rate to decrease upon stacking of the performance on the test set."
   ]
  },
  {
   "cell_type": "code",
   "execution_count": 5,
   "id": "ec351473-bdc2-415d-ae50-1e85f5a27e7f",
   "metadata": {},
   "outputs": [],
   "source": [
    "from a3mdnet.data import H5MonomerDataset\n",
    "from a3mdnet.sampling import IntegrationGrid\n",
    "from a3mdnet.density_models import WaveFunctionDensity\n",
    "from torch.optim import Adam\n",
    "from torch.optim.lr_scheduler import ReduceLROnPlateau\n",
    "import math\n",
    "device = torch.device('cuda:0')"
   ]
  },
  {
   "cell_type": "code",
   "execution_count": 6,
   "id": "1b9a0297-07aa-4ded-bd7d-8f53542b9309",
   "metadata": {},
   "outputs": [],
   "source": [
    "sampler = IntegrationGrid(grid='minimal', radial_resolution=5).to(device)\n",
    "wfn = WaveFunctionDensity().to(device)\n",
    "model = model.to(device)"
   ]
  },
  {
   "cell_type": "code",
   "execution_count": 7,
   "id": "76c32d91-a7fb-44b1-9eff-09960f67f2c5",
   "metadata": {},
   "outputs": [],
   "source": [
    "learning_rate = 1e-3\n",
    "weight_decay = 1e-5\n",
    "initial_epoch = 0\n",
    "final_epoch = 100\n",
    "batch_size = 4\n",
    "\n",
    "opt = Adam(params=model.parameters(), lr=learning_rate, weight_decay=weight_decay)\n",
    "schd = ReduceLROnPlateau(opt, mode='min', factor=0.5)"
   ]
  },
  {
   "cell_type": "code",
   "execution_count": null,
   "id": "bb8d065b-584b-48c8-b3cd-a92490dc6c60",
   "metadata": {},
   "outputs": [],
   "source": [
    "training_data = H5MonomerDataset.from_json('./training_data/gdb7.json', device=device, float_dtype=torch.float)\n",
    "training_data.split(0.8, shuffle=True)"
   ]
  },
  {
   "cell_type": "code",
   "execution_count": 9,
   "id": "a15dd0bf-ac5f-486a-beaf-7f7f3c10427e",
   "metadata": {},
   "outputs": [],
   "source": [
    "validation_data = H5MonomerDataset.from_json('./wfn/sugbench.json', device=device, float_dtype=torch.float)"
   ]
  },
  {
   "cell_type": "code",
   "execution_count": null,
   "id": "2e862c07-ac4d-4537-88e6-f208acda59c8",
   "metadata": {},
   "outputs": [
    {
     "name": "stderr",
     "output_type": "stream",
     "text": [
      "/home/bcz/miniconda3/envs/tutorial/lib/python3.8/site-packages/torch/tensor.py:481: UserWarning: non-inplace resize_as is deprecated\n",
      "  warnings.warn(\"non-inplace resize_as is deprecated\")\n"
     ]
    },
    {
     "name": "stdout",
     "output_type": "stream",
     "text": [
      "     0       2.819129e-01 1.000000e-03\n",
      "     1       7.983937e-02 1.000000e-03\n",
      "     2       3.823092e-02 1.000000e-03\n",
      "     3       3.828569e-02 1.000000e-03\n",
      "     4       3.788176e-02 1.000000e-03\n",
      "     5       4.068657e-02 1.000000e-03\n",
      "     6       3.603610e-02 1.000000e-03\n",
      "     7       3.985449e-02 1.000000e-03\n",
      "     8       4.010543e-02 1.000000e-03\n",
      "     9       3.130591e-02 1.000000e-03\n",
      "    10       3.769179e-02 1.000000e-03\n",
      "    11       3.433502e-02 1.000000e-03\n",
      "    12       3.117320e-02 1.000000e-03\n",
      "    13       3.294291e-02 1.000000e-03\n",
      "    14       3.360168e-02 1.000000e-03\n",
      "    15       3.093831e-02 1.000000e-03\n",
      "    16       3.130447e-02 1.000000e-03\n",
      "    17       3.147235e-02 1.000000e-03\n",
      "    18       3.239320e-02 1.000000e-03\n",
      "    19       3.025984e-02 1.000000e-03\n",
      "    20       2.843221e-02 1.000000e-03\n",
      "    21       3.135502e-02 1.000000e-03\n",
      "    22       3.118245e-02 1.000000e-03\n",
      "    23       2.785484e-02 1.000000e-03\n",
      "    24       3.001516e-02 1.000000e-03\n",
      "    25       3.152177e-02 1.000000e-03\n",
      "    26       2.846059e-02 1.000000e-03\n",
      "    27       3.052376e-02 1.000000e-03\n",
      "    28       2.803735e-02 1.000000e-03\n",
      "    29       2.697886e-02 1.000000e-03\n",
      "    30       2.811562e-02 1.000000e-03\n",
      "    31       2.753153e-02 1.000000e-03\n",
      "    32       2.919078e-02 1.000000e-03\n",
      "    33       2.728315e-02 1.000000e-03\n",
      "    34       2.977453e-02 1.000000e-03\n",
      "    35       2.776285e-02 1.000000e-03\n",
      "    36       2.711896e-02 1.000000e-03\n",
      "    37       2.602897e-02 1.000000e-03\n",
      "    38       2.596182e-02 1.000000e-03\n",
      "    39       2.579881e-02 1.000000e-03\n",
      "    40       2.632570e-02 1.000000e-03\n",
      "    41       2.842084e-02 1.000000e-03\n",
      "    42       2.484421e-02 1.000000e-03\n",
      "    43       2.542124e-02 1.000000e-03\n",
      "    44       2.684876e-02 1.000000e-03\n",
      "    45       2.618876e-02 1.000000e-03\n",
      "    46       3.040648e-02 1.000000e-03\n",
      "    47       3.336405e-02 1.000000e-03\n",
      "    48       2.489837e-02 1.000000e-03\n",
      "    49       2.463632e-02 1.000000e-03\n",
      "    50       2.499109e-02 1.000000e-03\n",
      "    51       2.543040e-02 1.000000e-03\n",
      "    52       2.604380e-02 1.000000e-03\n",
      "    53       2.441647e-02 1.000000e-03\n",
      "    54       2.585054e-02 1.000000e-03\n",
      "    55       2.494754e-02 1.000000e-03\n",
      "    56       2.542860e-02 1.000000e-03\n",
      "    57       2.414777e-02 1.000000e-03\n",
      "    58       2.578893e-02 1.000000e-03\n"
     ]
    }
   ],
   "source": [
    "for i in range(initial_epoch, final_epoch + 1):\n",
    "    test_labs = 0.0\n",
    "    with torch.no_grad():\n",
    "        for u in training_data.epoch(split='test', shuffle=False, batch_size=batch_size):\n",
    "            u.to(device)\n",
    "            _, dv, w = sampler.sample(u.atomic_numbers, u.coordinates)\n",
    "            pred, c = model.forward(dv, u.atomic_numbers, u.coordinates, u.charge)\n",
    "            ref = wfn.density(dv, u.primitive_centers, u.exponents, u.symmetry, u.density_matrix)\n",
    "            test_labs += (((ref - pred).abs() * w).sum(1) / (pred * w).sum(1)).sum()\n",
    "\n",
    "    test_labs = test_labs/ len(training_data.ids['test'])\n",
    "    schd.step(test_labs)\n",
    "    lr = opt.param_groups[0]['lr']\n",
    "    print('{:6d} {:18.6e} {:12.6e}'.format(i, test_labs, lr))\n",
    "\n",
    "    for u in training_data.epoch(split='train', shuffle=True, batch_size=batch_size):\n",
    "        u.to(device)\n",
    "        _, dv, w = sampler.sample(u.atomic_numbers, u.coordinates)\n",
    "        pred, c = model.forward(dv, u.atomic_numbers, u.coordinates, u.charge)\n",
    "        ref = wfn.density(dv, u.primitive_centers, u.exponents, u.symmetry, u.density_matrix)\n",
    "        l2 = ((ref - pred).pow(2) * w).sum()\n",
    "        opt.zero_grad()\n",
    "        l2.backward()\n",
    "        opt.step()\n",
    "        \n",
    "    if i % 10 == 0:\n",
    "        torch.save(model, 'tdnn3_{:06d}.pt'.format(i))"
   ]
  },
  {
   "cell_type": "code",
   "execution_count": 17,
   "id": "20bec8ef-1a81-42d2-a011-4ad6bb000485",
   "metadata": {},
   "outputs": [],
   "source": [
    "abse = []\n",
    "for u in validation_data.epoch(split='remaining', shuffle=False, batch_size=1):\n",
    "    u.to(device)\n",
    "    _, dv, w = sampler.sample(u.atomic_numbers, u.coordinates)\n",
    "    pred, c = model.forward(dv, u.atomic_numbers, u.coordinates, u.charge)\n",
    "    ref = wfn.density(dv, u.primitive_centers, u.exponents, u.symmetry, u.density_matrix)\n",
    "    u = (w * torch.abs(ref- pred) / (ref * w).sum()).sum()\n",
    "    abse.append(u.item())\n",
    "    "
   ]
  },
  {
   "cell_type": "markdown",
   "id": "47384947-c8d7-4b2b-a742-2e96b55542b8",
   "metadata": {},
   "source": [
    "## Visualizing electron density on suggars\n",
    "\n",
    "We can plot the electron densities using dx volumetric format, which is similar on its purpose to CUBE files."
   ]
  },
  {
   "cell_type": "code",
   "execution_count": 10,
   "id": "8c378be3-7a88-402d-8445-ed921f36d2ed",
   "metadata": {},
   "outputs": [],
   "source": [
    "from a3mdnet.utils import DxGrid, to_xyz_file"
   ]
  },
  {
   "cell_type": "code",
   "execution_count": 11,
   "id": "d7033c03-fa99-49db-bea0-4f48da7d7eb3",
   "metadata": {},
   "outputs": [],
   "source": [
    "%%bash \n",
    "mkdir -p dx"
   ]
  },
  {
   "cell_type": "code",
   "execution_count": 13,
   "id": "28108adb-3077-4169-afc8-dfecc1f42a5f",
   "metadata": {},
   "outputs": [],
   "source": [
    "dxg = DxGrid(device=torch.device('cuda:0'), dtype=torch.float, resolution=0.5, spacing=2.0)\n",
    "\n",
    "model = torch.load('tdnn3_000050.pt')\n",
    "with torch.no_grad():\n",
    "    for i, u in enumerate(validation_data.epoch(split='remaining', shuffle=False, batch_size=1)):\n",
    "        u.to(device)\n",
    "        g, dv, cell_info = dxg.generate_grid(u.coordinates.to(torch.device('cuda:0')))\n",
    "        pred, c = model.forward(dv, u.atomic_numbers, u.coordinates, u.charge)\n",
    "        ref = wfn.density(dv, u.primitive_centers, u.exponents, u.symmetry, u.density_matrix)\n",
    "        pred = pred.detach().to(torch.device('cpu')).clamp(max=1.0)\n",
    "        ref = ref.detach().to(torch.device('cpu')).clamp(max=1.0)\n",
    "        p_pred = dxg.dx(pred, **cell_info)\n",
    "        p_pred.write('./dx/sugbench_{:06d}.pred.dx'.format(i))\n",
    "        p_ref = dxg.dx(ref, **cell_info)\n",
    "        p_ref.write('./dx/sugbench_{:06d}.ref.dx'.format(i))\n",
    "        \n",
    "        for xyz in to_xyz_file(u.atomic_numbers, u.coordinates):\n",
    "            with open('./dx/sugbench_{:06d}.xyz'.format(i), 'w') as f:\n",
    "                f.write(xyz)\n",
    "        break"
   ]
  },
  {
   "cell_type": "markdown",
   "id": "e3aab3e9-8d10-4ed8-822d-8865988b6cf2",
   "metadata": {},
   "source": [
    "![](movie_a3md.gif)"
   ]
  },
  {
   "cell_type": "markdown",
   "id": "08a6f53a-caa6-4d20-bcc8-e121076fbfee",
   "metadata": {},
   "source": [
    "And here we are! The next tutorial will cover another neural network based methodology, DeepDFT, which represents state-of-the-art on valence electron density prediction. Enjoy!"
   ]
  },
  {
   "cell_type": "code",
   "execution_count": null,
   "id": "dae35c52-241a-4e7b-8e7c-6f40e5c68ad7",
   "metadata": {},
   "outputs": [],
   "source": [
    "with torch.no_grad():\n",
    "    for i, u in enumerate(validation_data.epoch(split='remaining', shuffle=False, batch_size=1)):\n",
    "        for xyz in to_xyz_file(u.atomic_numbers, u.coordinates):\n",
    "            with open('./xyz_rotated/sugbench_{:06d}.xyz'.format(i), 'w') as f:\n",
    "                f.write(xyz)"
   ]
  },
  {
   "cell_type": "code",
   "execution_count": null,
   "id": "c5ce33ce-c575-4adf-a3fb-cd2992246125",
   "metadata": {},
   "outputs": [],
   "source": []
  }
 ],
 "metadata": {
  "kernelspec": {
   "display_name": "Python 3 (ipykernel)",
   "language": "python",
   "name": "python3"
  },
  "language_info": {
   "codemirror_mode": {
    "name": "ipython",
    "version": 3
   },
   "file_extension": ".py",
   "mimetype": "text/x-python",
   "name": "python",
   "nbconvert_exporter": "python",
   "pygments_lexer": "ipython3",
   "version": "3.8.12"
  }
 },
 "nbformat": 4,
 "nbformat_minor": 5
}
