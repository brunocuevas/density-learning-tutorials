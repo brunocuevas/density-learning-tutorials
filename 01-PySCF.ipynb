{
 "cells": [
  {
   "cell_type": "markdown",
   "id": "377db3a8-1fda-4728-96a3-fe31ed7d717e",
   "metadata": {},
   "source": [
    "# PySCF - Getting electron densities with PySCF"
   ]
  },
  {
   "cell_type": "markdown",
   "id": "dec1b458-a834-4315-806a-c8e9ef0968ea",
   "metadata": {},
   "source": [
    "## Introduction\n",
    "\n",
    "PySCF is an open source Python library targetting QM calculations. It has a reachable API that allows the user to work with some of the inner aspects of the calculations (on the contrary, many other QM methods work as black boxes for the user).\n",
    "\n",
    "We will use PySCF to obtain:\n",
    "1. Raw electron densities\n",
    "2. Cube files\n",
    "3. WFN files\n",
    "4. Density Fittings\n",
    "5. Integrating properties"
   ]
  },
  {
   "cell_type": "markdown",
   "id": "f04a5c7d-1bba-4812-a8a9-74e985e770fd",
   "metadata": {},
   "source": [
    "## Running a typical calculation\n",
    "\n",
    "In this case we will use a standard DFT calculation. Post-HF methods can also be obtained through PySCF. Yet, they might require some handling of the post-HF wave-function, which contains non-empty virtual orbitals."
   ]
  },
  {
   "cell_type": "code",
   "execution_count": 1,
   "id": "7df95fed-5ab9-4450-a269-d61e1aa492dc",
   "metadata": {},
   "outputs": [],
   "source": [
    "import numpy as np\n",
    "from pyscf import gto, dft\n",
    "from pyscf.dft import numint\n",
    "from pyscf.dft import r_numint"
   ]
  },
  {
   "cell_type": "markdown",
   "id": "07804d39-432e-449f-843a-2b1ffd6fdc0c",
   "metadata": {},
   "source": [
    "PySCF requires defining the basis set for a given molecule, and then performing the QM calculation on top of that basis."
   ]
  },
  {
   "cell_type": "code",
   "execution_count": 2,
   "id": "7e9ca99c-7455-4bba-b673-375cb0350a12",
   "metadata": {},
   "outputs": [
    {
     "data": {
      "text/plain": [
       "-76.42589425695505"
      ]
     },
     "execution_count": 2,
     "metadata": {},
     "output_type": "execute_result"
    }
   ],
   "source": [
    "# Standard calcualtion\n",
    "mol = gto.M(\n",
    "    verbose = 0,\n",
    "    atom = '''\n",
    "    o    0    0.       0.\n",
    "    h    0    -0.757   0.587\n",
    "    h    0    0.757    0.587''',\n",
    "    basis = 'ccpvtz'\n",
    ") # GTO -> Gaussian Type Orbitals\n",
    "\n",
    "mf = dft.RKS(mol)\n",
    "mf.xc = 'scan' # Other functionals can be used: wb97x, b3lyp, m06, ...\n",
    "mf.kernel() # This returns the energy"
   ]
  },
  {
   "cell_type": "markdown",
   "id": "c0a97624-5166-4660-8c91-8b0698b4d29f",
   "metadata": {},
   "source": [
    "## Getting the electron density\n",
    "\n",
    "For this, we require to compute the one-body density matrix, which is computed as:\n",
    "\n",
    "\n",
    "$$ D_{\\mu\\eta}= \\sum_{i}^{norb} n_{i} c_{i,\\mu} c_{i, \\eta} $$\n",
    "\n",
    "Where $n$ represents the occupancy number of each orbital, and $c_{ij}$ the coefficient associated to basis primitive function $j$ in orbital $i$.\n",
    "\n",
    "PySCF already contains a subrutine that makes this easier to us."
   ]
  },
  {
   "cell_type": "code",
   "execution_count": 3,
   "id": "25709969-ca21-4d07-a92f-f64c811ffa7e",
   "metadata": {},
   "outputs": [],
   "source": [
    "dm = mf.make_rdm1()"
   ]
  },
  {
   "cell_type": "markdown",
   "id": "cc2d438d-70e9-4f7d-8667-7df5f62cef55",
   "metadata": {},
   "source": [
    "The next step consists on calculating the values of the electron density. \n",
    "\n",
    "$$ \\rho(r) = \\sum_{\\mu}^{nprim} \\sum_{\\eta}^{nprim} D_{\\mu\\eta} \\chi_{\\mu}(r) \\chi_{\\eta}(r) $$\n",
    "\n",
    "We can employ their numerical tool eval_rho, or we can calculate it ourselves. Yet, the first approach will allow us to access to the gradients of the electron density, whose density is not trivial to compute due to the two-center analytical shape. \n",
    "\n",
    "In this exercise, we will calculate it for the atomic coordinates."
   ]
  },
  {
   "cell_type": "code",
   "execution_count": 4,
   "id": "19733ced-8698-4de6-9f78-3c44f8f9d540",
   "metadata": {},
   "outputs": [
    {
     "data": {
      "text/plain": [
       "array([297.86350681,   0.41830389,   0.41830389])"
      ]
     },
     "execution_count": 4,
     "metadata": {},
     "output_type": "execute_result"
    }
   ],
   "source": [
    "# Calulate atomic orbitals upon coordinates\n",
    "ao_value = numint.eval_ao(mol, mol.atom_coords(), deriv=1)\n",
    "# Calculate electron density + derivatives\n",
    "rho = numint.eval_rho(mol, ao_value, dm, xctype='GGA')\n",
    "rho[0]"
   ]
  },
  {
   "cell_type": "markdown",
   "id": "5f9a01c7-ff9c-4db7-a3e5-4facb47e11b4",
   "metadata": {},
   "source": [
    "**Proposed Exercise**: Depict the electron density for:\n",
    "- the water molecule plane (using the same coordinates above)\n",
    "- the benzene molecule (use coordinates from file examples/benzene.xyz)\n",
    "- the bond between ethane carbons (use coordinates from file examples/ethane.xyz)\n",
    "\n",
    "**Tip**: For the first two quests, you can use the matplotlib function contourf. You might requrire to generate a mesh grid. \n"
   ]
  },
  {
   "cell_type": "markdown",
   "id": "717464b3-3a01-4dab-8bad-c9e168b972da",
   "metadata": {},
   "source": [
    "### Exercise 1, Solution"
   ]
  },
  {
   "cell_type": "code",
   "execution_count": 5,
   "id": "b8a44c9e-4d46-430d-b9fc-86eae8bf9a94",
   "metadata": {},
   "outputs": [],
   "source": [
    "import matplotlib.pyplot as plt\n",
    "import numpy as np\n"
   ]
  },
  {
   "cell_type": "code",
   "execution_count": 6,
   "id": "40c875a7-746a-4119-9535-88bb74d811d0",
   "metadata": {},
   "outputs": [],
   "source": [
    "def density(mol, mf, x):\n",
    "    \n",
    "    dm = mf.make_rdm1()\n",
    "    ao = numint.eval_ao(mol, x, deriv=0)\n",
    "    rho = numint.eval_rho(mol, ao, dm)\n",
    "    return rho"
   ]
  },
  {
   "cell_type": "code",
   "execution_count": 7,
   "id": "8812525a-c2ee-45b2-b551-ea99dc2cb175",
   "metadata": {},
   "outputs": [
    {
     "name": "stdout",
     "output_type": "stream",
     "text": [
      "converged SCF energy = -232.178998019898\n"
     ]
    },
    {
     "data": {
      "text/plain": [
       "-232.17899801989842"
      ]
     },
     "execution_count": 7,
     "metadata": {},
     "output_type": "execute_result"
    }
   ],
   "source": [
    "mol = gto.Mole()\n",
    "mol.atom = 'examples/benzene.xyz'\n",
    "mol.basis = 'cc-pvtz'\n",
    "mol.build()\n",
    "\n",
    "mf = dft.RKS(mol)\n",
    "mf.xc = 'b3lyp' # Other functionals can be used: wb97x, b3lyp, m06, ...\n",
    "mf.kernel()"
   ]
  },
  {
   "cell_type": "code",
   "execution_count": 9,
   "id": "a0820204-a739-497e-b072-76d12b1e12c6",
   "metadata": {},
   "outputs": [],
   "source": [
    "min_x = mol.atom_coords().min(0)[0]\n",
    "max_x = mol.atom_coords().max(0)[0]\n",
    "min_y = mol.atom_coords().min(0)[1]\n",
    "max_y = mol.atom_coords().max(0)[1]\n",
    "z = mol.atom_coords().max(0)[2]\n",
    "\n",
    "xx = np.arange(min_x - 2.0, max_x + 2.0, 0.1)\n",
    "yy = np.arange(min_y - 2.0, max_y + 2.0, 0.1)\n",
    "X, Y = np.meshgrid(xx, yy)\n",
    "R = np.stack([X.flatten(), Y.flatten(), z * np.ones_like(Y.flatten())], axis=1)\n",
    "P = density(mol, mf, R).reshape(yy.size, xx.size)"
   ]
  },
  {
   "cell_type": "code",
   "execution_count": 10,
   "id": "18c3a4f5-6b40-4242-8ab9-0ad349ed8e19",
   "metadata": {},
   "outputs": [
    {
     "data": {
      "image/png": "[encoded data removed]",
      "text/plain": [
       "<Figure size 432x288 with 2 Axes>"
      ]
     },
     "metadata": {
      "needs_background": "light"
     },
     "output_type": "display_data"
    }
   ],
   "source": [
    "fig, ax = plt.subplots(1)\n",
    "ax.set_aspect('equal')\n",
    "cb = ax.contourf(X, Y, P.clip(min=0, max=0.75), levels=[0.0, 0.001, 0.01, 0.1, 0.25, 0.5, 0.75], cmap='gray')\n",
    "plt.colorbar(cb)\n",
    "ax.set_xticks([])\n",
    "ax.set_yticks([])\n",
    "fig.tight_layout()\n",
    "plt.savefig('./examples/benzene.density.png', dpi=300)\n",
    "plt.show()"
   ]
  },
  {
   "cell_type": "code",
   "execution_count": 11,
   "id": "63940fff-ccfd-44ae-8072-8bb4fb00d3b0",
   "metadata": {},
   "outputs": [
    {
     "name": "stdout",
     "output_type": "stream",
     "text": [
      "converged SCF energy = -79.7991399779774\n",
      "converged SCF energy = -78.5649572381082\n",
      "converged SCF energy = -77.3123436078042\n"
     ]
    },
    {
     "data": {
      "image/png": "[encoded data removed]",
      "text/plain": [
       "<Figure size 360x288 with 1 Axes>"
      ]
     },
     "metadata": {
      "needs_background": "light"
     },
     "output_type": "display_data"
    }
   ],
   "source": [
    "fig, ax = plt.subplots(1)\n",
    "fig.set_size_inches(5, 4)\n",
    "mol_name_dict = dict(ethane='x', ethene='o', ethine='^')\n",
    "\n",
    "for mol_name, symbol in mol_name_dict.items():\n",
    "\n",
    "    mol = gto.Mole()\n",
    "    mol.atom = 'examples/{:s}.xyz'.format(mol_name)\n",
    "    mol.basis = 'cc-pvtz'\n",
    "    mol.build()\n",
    "    mf = dft.RKS(mol)\n",
    "    mf.xc = 'b3lyp' # Other functionals can be used: wb97x, b3lyp, m06, ...\n",
    "    mf.kernel()\n",
    "    c1 = mol.atom_coords()[0, :]\n",
    "    c2 = mol.atom_coords()[1, :]\n",
    "    d = c2 - c1\n",
    "    d = d / 10\n",
    "    r = c1 + np.arange(11).reshape(-1, 1) * d\n",
    "    p = density(mol, mf, r)\n",
    "    ax.plot(np.arange(11) / 10, np.log10(p), label=mol_name, marker=symbol)\n",
    "    \n",
    "ax.legend()\n",
    "ax.set_ylim(-0.75, 0.5)\n",
    "ax.set_xlim(0.1, 0.9)\n",
    "ax.set_xlabel('scaled bond distance(d/|C-C|)')\n",
    "ax.set_ylabel('electron density $log_{10} ( e·bohr^{-3} ) $')\n",
    "fig.tight_layout()\n",
    "plt.savefig('./examples/cc_bond.density.png', dpi=300)\n",
    "plt.show()"
   ]
  },
  {
   "cell_type": "markdown",
   "id": "65caa4fd-ada2-4428-8aa3-cb13064a9b97",
   "metadata": {},
   "source": [
    "## Cube files\n",
    "\n",
    "Cube files allow the visualization of electron density using specific visualization programs. In this tutorial, we will consider the use of ChimeraX. But others can be employed. A rather chemistry-focused tool might be Avogadro.\n",
    "\n",
    "We will use the default cube writting tool from PySCF."
   ]
  },
  {
   "cell_type": "code",
   "execution_count": 12,
   "id": "e185d9c1-5855-4997-97fc-d8a5e4795470",
   "metadata": {},
   "outputs": [
    {
     "name": "stdout",
     "output_type": "stream",
     "text": [
      "converged SCF energy = -232.178998019898\n"
     ]
    }
   ],
   "source": [
    "from pyscf.tools import cubegen\n",
    "\n",
    "mol = gto.Mole()\n",
    "mol.atom = 'examples/benzene.xyz'\n",
    "mol.basis = 'cc-pvtz'\n",
    "mol.build()\n",
    "mf = dft.RKS(mol)\n",
    "mf.xc = 'b3lyp' # Other functionals can be used: wb97x, b3lyp, m06, ...\n",
    "mf.kernel()\n",
    "dm = mf.make_rdm1()\n",
    "\n",
    "cb = cubegen.density(mol, 'benzene.cube', dm)"
   ]
  },
  {
   "cell_type": "markdown",
   "id": "fbcdf363-0722-45b7-b5bc-fd6e6f00b76d",
   "metadata": {},
   "source": [
    "ChimeraX can be downloaded from its webpage at XXX. Its use is rather straight-forward, but we include a snapshoot to illustrate how to visualize electron densities.\n",
    "\n",
    "![](Practical1.png)"
   ]
  },
  {
   "cell_type": "markdown",
   "id": "f2535e2c-6540-49bd-9e0c-ed41025bc294",
   "metadata": {},
   "source": [
    "## WFN files\n",
    "\n",
    "It is likely that we want our resulting electron density to be analyzed by some other code (e.g., Horton). For that, the WFN format is a well-known one (though a little bit old-fashioned). We will use the WFN writing utility from PySCF."
   ]
  },
  {
   "cell_type": "code",
   "execution_count": 13,
   "id": "906fca71-be34-4f91-8bbf-004a9dd45a1b",
   "metadata": {},
   "outputs": [],
   "source": [
    "from pyscf.tools import wfn_format"
   ]
  },
  {
   "cell_type": "code",
   "execution_count": 14,
   "id": "d36c1de0-9e4c-48a1-99ee-f93878bb2611",
   "metadata": {},
   "outputs": [],
   "source": [
    "coeff = mf.mo_coeff[:,mf.mo_occ>0]\n",
    "energy = mf.mo_energy[mf.mo_occ>0]\n",
    "occ = mf.mo_occ[mf.mo_occ>0]\n",
    "with open('benzene_dft.wfn', 'w') as f2:\n",
    "    wfn_format.write_mo(f2, mol, coeff, energy, occ)"
   ]
  },
  {
   "cell_type": "markdown",
   "id": "40e2f553-6cd4-42e0-a542-edf97d674e81",
   "metadata": {},
   "source": [
    "## Integration\n",
    "\n",
    "PySCF provides DFT integration grids, which are obtained from overlapping spheres and a tesellation scheme. We can employ such grids to compute electron density properties."
   ]
  },
  {
   "cell_type": "code",
   "execution_count": 15,
   "id": "29832769-907f-41c2-b91a-b80266babac4",
   "metadata": {},
   "outputs": [
    {
     "data": {
      "text/plain": [
       "<pyscf.dft.gen_grid.Grids at 0x2b04186ffd90>"
      ]
     },
     "execution_count": 15,
     "metadata": {},
     "output_type": "execute_result"
    }
   ],
   "source": [
    "g = dft.gen_grid.Grids(mol)\n",
    "g.level=1\n",
    "g.build()"
   ]
  },
  {
   "cell_type": "markdown",
   "id": "ac05aba8-5a2e-4fd6-a080-c0fe2416d628",
   "metadata": {},
   "source": [
    "We shall compute the normalization of the electron density"
   ]
  },
  {
   "cell_type": "code",
   "execution_count": 16,
   "id": "9afeea74-01e4-4659-8cf6-c986a98f11b2",
   "metadata": {},
   "outputs": [
    {
     "name": "stdout",
     "output_type": "stream",
     "text": [
      "41.99995361422252\n"
     ]
    }
   ],
   "source": [
    "ao_value = numint.eval_ao(mol, g.coords)\n",
    "rho = numint.eval_rho(mol, ao_value, dm)\n",
    "\n",
    "n = (rho * g.weights).sum()\n",
    "print(n) # This should be very close to 10"
   ]
  },
  {
   "cell_type": "markdown",
   "id": "b2fc9b5d-312d-4574-ba60-94a6b14e71b2",
   "metadata": {},
   "source": [
    "**Proposed Exercises**: Compute, using the integration grids:\n",
    "- electron density dipole of the water molecule\n",
    "- the electrostatic potential at nuclei positions\n",
    "- the Dirac exchange"
   ]
  },
  {
   "cell_type": "markdown",
   "id": "81a4ffb7-2d5f-48c3-917b-f61c46be6e12",
   "metadata": {},
   "source": [
    "From the df_coef, we can obtain the linear expansion, and compute electron densities."
   ]
  },
  {
   "cell_type": "markdown",
   "id": "c349137f-8036-4f3d-aa3e-14eecbdcc7d5",
   "metadata": {},
   "source": [
    "## Density Fitting\n",
    "\n",
    "Two center electron density is expensive to compute, and the calculation of some integrals can become burdensome. A way to reduce the computational complexity is to replace the two body expansion by a linear expansion.\n",
    "\n",
    "$$ \\rho(r) = \\sum_{i}^{aux} c^{aux}_{i} \\chi^{aux}_{i}(r) $$\n",
    "\n",
    "Some basis sets have auxilary basis sets taylored to become equivalent after decomposition. For each auxilary basis set and QM calculation, it is necessary to compute the coefficients of the linear expansion. We can do so by projecting the potential generated by the product of two centers and once center functions into the two center \n"
   ]
  },
  {
   "cell_type": "code",
   "execution_count": 17,
   "id": "c7b3e61c-4e95-46d3-9f41-8778f763d881",
   "metadata": {},
   "outputs": [],
   "source": [
    "from pyscf import df\n",
    "import scipy"
   ]
  },
  {
   "cell_type": "code",
   "execution_count": 18,
   "id": "c264d00f-bb11-4d1f-85f5-653ee7727eb7",
   "metadata": {},
   "outputs": [],
   "source": [
    "# Definining a reduced matrix\n",
    "\n",
    "auxmol = df.addons.make_auxmol(mol, 'ccpvdz-jk-fit')\n",
    "\n",
    "# Calculating integrals between mol and auxmol\n",
    "\n",
    "ints_3c2e = df.incore.aux_e2(mol, auxmol, intor='int3c2e')\n",
    "ints_2c2e = auxmol.intor('int2c2e')\n",
    "\n",
    "# Number of orbitals\n",
    "\n",
    "nao = mol.nao\n",
    "naux = auxmol.nao\n",
    "\n",
    "# Solve the density tensor\n",
    "\n",
    "df_coef = scipy.linalg.solve(ints_2c2e, ints_3c2e.reshape(nao*nao, naux).T)\n",
    "df_coef = df_coef.reshape(naux, nao, nao)"
   ]
  },
  {
   "cell_type": "code",
   "execution_count": 19,
   "id": "03975915-5af3-4c1b-b4e8-b0ec519b0cf3",
   "metadata": {},
   "outputs": [],
   "source": [
    "dm_ = dm.reshape(1, nao, nao)\n",
    "c = (dm_ * df_coef).sum((1, 2)) \n",
    "\n",
    "\n",
    "chi_aux = numint.eval_ao(auxmol, g.coords)\n",
    "rho = (c.reshape(1, naux) * chi_aux).sum(1)\n"
   ]
  },
  {
   "cell_type": "markdown",
   "id": "8d89e61d-64bc-4285-914d-161b04e0a423",
   "metadata": {},
   "source": [
    "The integral of the density here should be also around 42 + integration error."
   ]
  },
  {
   "cell_type": "code",
   "execution_count": 20,
   "id": "b9511ad6-b61f-454f-b895-074bceb0e41d",
   "metadata": {},
   "outputs": [
    {
     "data": {
      "text/plain": [
       "41.99980273580332"
      ]
     },
     "execution_count": 20,
     "metadata": {},
     "output_type": "execute_result"
    }
   ],
   "source": [
    "(rho * g.weights).sum()"
   ]
  },
  {
   "cell_type": "code",
   "execution_count": null,
   "id": "a67a3841-766e-484a-ab68-b6a5013b9a9e",
   "metadata": {},
   "outputs": [],
   "source": []
  }
 ],
 "metadata": {
  "kernelspec": {
   "display_name": "Python 3 (ipykernel)",
   "language": "python",
   "name": "python3"
  },
  "language_info": {
   "codemirror_mode": {
    "name": "ipython",
    "version": 3
   },
   "file_extension": ".py",
   "mimetype": "text/x-python",
   "name": "python",
   "nbconvert_exporter": "python",
   "pygments_lexer": "ipython3",
   "version": "3.9.7"
  }
 },
 "nbformat": 4,
 "nbformat_minor": 5
}
