{
 "cells": [
  {
   "cell_type": "markdown",
   "id": "6b4d18dc-5815-4eda-98b1-28689f6e9f1a",
   "metadata": {},
   "source": [
    "# Case 3: Predicting Electron Density with pre-trained DeepDFT\n",
    "\n",
    "## Introduction\n",
    "\n",
    "DeepDFT employs a Message-Passing scheme to compute electron density in real 3D space. For that, it requires the construction of a graph that joins atomic nodes and probe nodes. In this small study case, we will employ DeepDFT to compute electron density cube files for different suggar molecules. \n",
    "\n"
   ]
  },
  {
   "cell_type": "markdown",
   "id": "7d79bd9a-ea81-41c8-ba46-429db4c9d0d3",
   "metadata": {},
   "source": [
    "## Libraries and dependencies"
   ]
  },
  {
   "cell_type": "code",
   "execution_count": 1,
   "id": "673d6c4b-8b76-4137-bb82-a36b12bedcc7",
   "metadata": {},
   "outputs": [],
   "source": [
    "import torch\n",
    "import math\n",
    "import utils\n",
    "import densitymodel\n",
    "import os\n",
    "import argparse\n",
    "import json\n",
    "import ase\n",
    "import ase.io\n",
    "import numpy as np\n",
    "import dataset\n",
    "from ase.units import Bohr"
   ]
  },
  {
   "cell_type": "code",
   "execution_count": 2,
   "id": "8f581561-13ed-44a7-9bea-fa3668ae6413",
   "metadata": {},
   "outputs": [],
   "source": [
    "class LazyMeshGrid():\n",
    "    def __init__(self, cell, grid_step, origin=None):\n",
    "        self.cell = cell\n",
    "        self.scaled_grid_vectors = [np.arange(0, l, grid_step)/l for l in self.cell.lengths()]\n",
    "        self.shape = np.array([len(g) for g in self.scaled_grid_vectors] + [3])\n",
    "        if origin is None:\n",
    "            self.origin = np.zeros(3)\n",
    "        else:\n",
    "            self.origin = origin\n",
    "\n",
    "        self.origin = np.expand_dims(self.origin, 0)\n",
    "\n",
    "    def __getitem__(self, indices):\n",
    "        indices = np.array(indices)\n",
    "        indices_shape = indices.shape\n",
    "        if not (len(indices_shape) == 2 and indices_shape[0] == 3):\n",
    "            raise NotImplementedError(\"Indexing must be a 3xN array-like object\")\n",
    "        gridA = self.scaled_grid_vectors[0][indices[0]]\n",
    "        gridB = self.scaled_grid_vectors[1][indices[1]]\n",
    "        gridC = self.scaled_grid_vectors[2][indices[2]]\n",
    "\n",
    "        grid_pos = np.stack([gridA, gridB, gridC], 1)\n",
    "        grid_pos = np.dot(grid_pos, self.cell)\n",
    "        grid_pos += self.origin\n",
    "\n",
    "        return grid_pos"
   ]
  },
  {
   "cell_type": "code",
   "execution_count": 3,
   "id": "1e9e9056-ccc2-477b-b5c8-276466d767c4",
   "metadata": {},
   "outputs": [],
   "source": [
    "def load_model(model_dir, device):\n",
    "    \"\"\"\n",
    "    load_model\n",
    "    ==========\n",
    "    Parameters\n",
    "    ----------\n",
    "    model_dir: str\n",
    "        Where the model is located\n",
    "    device: torch.Device    \n",
    "        Where to store the model (cpu, cuda, etc)\n",
    "    Returns\n",
    "    -------\n",
    "    densitymodel.DensityModel, float\n",
    "    \n",
    "    Examples\n",
    "    --------\n",
    "    >>> load_model(deepdft_folder / 'qm9_pretrained_model', torch.device('cuda:0'))\n",
    "    \"\"\"\n",
    "    with open(os.path.join(model_dir, \"arguments.json\"), \"r\") as f:\n",
    "        runner_args = argparse.Namespace(**json.load(f))\n",
    "    model = densitymodel.DensityModel(runner_args.num_interactions, runner_args.node_size, runner_args.cutoff)\n",
    "    device = torch.device(device)\n",
    "    model.to(device)\n",
    "    state_dict = torch.load(os.path.join(model_dir, \"best_model.pth\"))\n",
    "    model.load_state_dict(state_dict[\"model\"])\n",
    "    return model, runner_args.cutoff\n",
    "\n",
    "\n",
    "def load_molecule(atomspath, vacuum, grid_step):\n",
    "    \"\"\"\n",
    "    load_molecule\n",
    "    =============\n",
    "    \n",
    "    Parameters\n",
    "    ----------\n",
    "    atomspath: str\n",
    "        File. Tested on xyz and mol formats\n",
    "    vacuum: float\n",
    "        padding\n",
    "    grid_step: number of grids\n",
    "    \"\"\"\n",
    "    atoms = ase.io.read(atomspath)\n",
    "    \n",
    "    diff = atoms.get_positions().max(0) - atoms.get_positions().min(0)\n",
    "    \n",
    "    atoms.center(vacuum=vacuum)\n",
    "\n",
    "    \n",
    "    \n",
    "    a, b, c, ang_bc, ang_ac, ang_ab = atoms.get_cell_lengths_and_angles()\n",
    "    a, b, c = ceil_float(a, grid_step), ceil_float(b, grid_step), ceil_float(c, grid_step)\n",
    "    atoms.set_cell([a, b, c, ang_bc, ang_ac, ang_ab])\n",
    "\n",
    "    origin = np.zeros(3)\n",
    "\n",
    "    grid_pos = LazyMeshGrid(atoms.get_cell(), grid_step)\n",
    "\n",
    "    metadata = {\"filename\": atomspath}\n",
    "    return {\n",
    "        # \"density\": density,\n",
    "        \"atoms\": atoms,\n",
    "        \"origin\": origin,\n",
    "        \"grid_position\": grid_pos,\n",
    "        \"metadata\": metadata, # Meta information\n",
    "        \"diff\": diff\n",
    "    }\n",
    "\n",
    "\n",
    "\n",
    "def ceil_float(x, step_size):\n",
    "    # Round up to nearest step_size and subtract a small epsilon\n",
    "    x = math.ceil(x/step_size) * step_size\n",
    "    # eps = 2*np.finfo(float).eps * x\n",
    "    return x # - eps"
   ]
  },
  {
   "cell_type": "code",
   "execution_count": 4,
   "id": "596658fb-3200-404c-988c-402f2d41cad1",
   "metadata": {},
   "outputs": [],
   "source": [
    "u = ase.io.read('xyz/sugbench_000000.opt.xyz')"
   ]
  },
  {
   "cell_type": "code",
   "execution_count": 5,
   "id": "4eafbe1c-28d2-4afc-acee-d851ddd2cb4a",
   "metadata": {},
   "outputs": [
    {
     "data": {
      "text/plain": [
       "array([11.0902, 11.5524,  8.2889])"
      ]
     },
     "execution_count": 5,
     "metadata": {},
     "output_type": "execute_result"
    }
   ],
   "source": [
    "u.get_positions().max(0) - u.get_positions().min(0)"
   ]
  },
  {
   "cell_type": "markdown",
   "id": "b2f25a55-6786-48c0-a4e4-3540dda1da40",
   "metadata": {},
   "source": [
    "## Exercises\n",
    "\n",
    "### Ex1: Save cube files with electron densities\n",
    "\n",
    "Bellow we have re-adapted DeepDFT script for the evaluation of cube files.\n",
    "The first step is about loading the model. We will use their pretrained model on GDB9, which is a dataset containing 134k organic molecules with less than 9 heavy atoms.\n"
   ]
  },
  {
   "cell_type": "code",
   "execution_count": 6,
   "id": "e597dcc5-b6d1-4355-b332-a8fcb5e96387",
   "metadata": {},
   "outputs": [],
   "source": [
    "device = torch.device(torch.device('cuda:0'))\n",
    "model, cutoff = load_model('/home/bcz/dev/DeepDFT/qm9_pretrained_model/', device)\n",
    "grid_step = 0.25 # If required, we can make tighter grids by reducing this value\n",
    "#                  for visualization purposes, it's ok\n",
    "padding = 1.0 # If required, we can increase it to visualize the density in far regions\n",
    "#               Yet, if it becomes too large, density calcualtion will be simply clamped\n",
    "bohr2ang = 0.529177 # DeepDFT works in electron/(angstrom^-3). We will move it to atomic units\n",
    "bohr2angp3 = bohr2ang ** 3"
   ]
  },
  {
   "cell_type": "markdown",
   "id": "8c2c154c-6469-499a-8e16-468ef5425aa0",
   "metadata": {},
   "source": [
    "The protocol employs the Atomic Simulation Environment (ASE). This library accepts .mol files and .xyz files. Our optimized molecules are at .mol2 format, so we will translate them to xyz using babel"
   ]
  },
  {
   "cell_type": "code",
   "execution_count": 7,
   "id": "fab4f20d-fb57-4e19-befd-ef97bcea1da1",
   "metadata": {},
   "outputs": [
    {
     "name": "stderr",
     "output_type": "stream",
     "text": [
      "mkdir: cannot create directory ‘xyz’: File exists\n",
      "11 molecule converted\n",
      " molecule converted\n",
      "1 molecule converted\n",
      "1 molecule converted\n",
      "1 molecule converted\n",
      "11 molecule molecule converted converted\n",
      "\n",
      "1 molecule converted\n",
      "1 molecule converted\n",
      "1 molecule converted\n",
      "11 molecule converted1\n",
      " molecule converted molecule converted\n",
      "\n",
      "1 molecule converted\n",
      "11 molecule converted molecule\n",
      " converted\n",
      "1 molecule1 converted molecule\n",
      " converted\n",
      "1 molecule converted\n",
      "1 molecule converted\n",
      "1 molecule converted\n",
      "1 molecule converted\n",
      "1 molecule converted\n",
      "1 molecule converted\n",
      "1 molecule converted\n",
      "1 molecule converted\n",
      "1 molecule converted\n",
      "1 molecule converted\n",
      "1 molecule converted\n",
      "1 molecule converted\n",
      "11 molecule converted\n",
      " molecule converted\n",
      "1 molecule converted\n",
      "1 molecule converted\n",
      "1 molecule converted\n",
      "1 molecule converted\n",
      "1 molecule converted\n",
      "1 molecule converted\n",
      "1 molecule converted\n",
      "1 molecule converted\n",
      "1 molecule converted\n",
      "11 molecule converted\n",
      " molecule converted1\n",
      " molecule converted\n",
      "1 molecule converted\n",
      "1 molecule converted\n",
      "1 molecule converted\n",
      "1 molecule converted\n",
      "1 molecule converted\n",
      "1 molecule converted\n",
      "1 molecule converted\n",
      "1 molecule converted\n",
      "1 molecule converted\n",
      "1 molecule converted\n",
      "1 molecule converted\n",
      "1 molecule converted\n",
      "1 molecule converted\n",
      "1 molecule converted\n",
      "1 molecule converted\n",
      "1 molecule converted\n",
      "1 molecule converted\n",
      "1 molecule converted\n",
      "1 molecule converted\n",
      "1 molecule converted\n",
      "1 molecule converted\n",
      "1 molecule converted\n",
      "1 molecule converted\n",
      "1 molecule converted\n",
      "1 molecule converted\n",
      "1 molecule converted\n",
      "11 molecule molecule converted converted\n",
      "\n",
      "1 molecule converted\n",
      "1 molecule converted\n",
      "1 molecule converted\n",
      "1 molecule converted\n"
     ]
    }
   ],
   "source": [
    "%%bash\n",
    "\n",
    "mkdir xyz\n",
    "cd ./mol2/ \n",
    "ls *.mol2 | grep opt | sed \"s/.mol2//g\" | xargs -I % -P 10 obabel -i mol2 %.mol2 -o xyz -O ../xyz/%.xyz"
   ]
  },
  {
   "cell_type": "markdown",
   "id": "5c0461bc-230a-4ea1-bfb5-03b5516c8204",
   "metadata": {},
   "source": [
    "Loading all the molecules in a list of (name,molecule) tuples"
   ]
  },
  {
   "cell_type": "code",
   "execution_count": 8,
   "id": "508e58f7-0d09-453f-855d-9c7fbf5e9a94",
   "metadata": {},
   "outputs": [
    {
     "name": "stderr",
     "output_type": "stream",
     "text": [
      "/home/bcz/miniconda3/envs/deepdft/lib/python3.9/site-packages/ase/utils/__init__.py:62: FutureWarning: Please use atoms.cell.cellpar() instead\n",
      "  warnings.warn(warning)\n"
     ]
    }
   ],
   "source": [
    "with open('./wfn/sugbench.index') as f:\n",
    "    index = [i.strip().replace('.orca', '') for i in f.readlines()]\n",
    "    \n",
    "sugbench = []\n",
    "for i in index: \n",
    "    mol = load_molecule('./xyz/{:s}.xyz'.format(i), vacuum=padding, grid_step=grid_step)\n",
    "    sugbench.append(\n",
    "        (\n",
    "            i, mol\n",
    "            \n",
    "        )\n",
    "    )"
   ]
  },
  {
   "cell_type": "markdown",
   "id": "e7a62d3c-b2ec-433d-8d13-7a6703928b9c",
   "metadata": {},
   "source": [
    "DeepDFT works as a message-passing neural network. This means that any computation requires building graphs between atoms (nodes) and probes (probe nodes). DeepDFT uses distance as adjacency criteria, and the distance between nodes as edge data.\n",
    "\n",
    "\n",
    "*collate_fn* generates such graph for atomic coordinates, so the MPNN can process the molecule information\n",
    "\n",
    "The calculation of the electron density is performed at two steps:\n",
    "\n",
    "1. Calculation of molecule representation, through message-passing between atomic nodes. Probing nodes are excluded\n",
    "2. Calculation of electron density at probing coordinates, through message-passing from atomic nodes to probing nodes."
   ]
  },
  {
   "cell_type": "code",
   "execution_count": 9,
   "id": "fa194a62-0045-47df-ba09-f9856a007930",
   "metadata": {},
   "outputs": [],
   "source": [
    "collate_fn = dataset.CollateFuncAtoms(\n",
    "    cutoff=cutoff,\n",
    "    pin_memory=True,\n",
    "    disable_pbc=True,\n",
    ")\n"
   ]
  },
  {
   "cell_type": "code",
   "execution_count": 10,
   "id": "1c0ee670-494d-48f3-9f64-e1aa71a3d7b3",
   "metadata": {},
   "outputs": [
    {
     "name": "stdout",
     "output_type": "stream",
     "text": [
      "processing sugbench_000000.opt -- DONE\n"
     ]
    }
   ],
   "source": [
    "with torch.no_grad(): # Disabling gradient calculation is important to avoid memory deplition\n",
    "    for i, density_dict in sugbench: # iterating on the suggar dataset\n",
    "        print(\"processing {:s}\".format(i), end=\" \")\n",
    "        r = - density_dict[\"diff\"] / 2\n",
    "        cubewriter = utils.CubeWriter(\n",
    "            \"./cube/{:s}.deepdft.cube\".format(i),\n",
    "            density_dict[\"atoms\"],\n",
    "            density_dict[\"grid_position\"].shape[0:3],\n",
    "            density_dict[\"origin\"],\n",
    "            \"predicted by DeepDFT model\",\n",
    "        )\n",
    "        # Part 1: Message Passing between atomic nodes\n",
    "        graph_dict = collate_fn([density_dict])\n",
    "        device_batch = {\n",
    "            k: v.to(device=device, non_blocking=True) for k, v in graph_dict.items()\n",
    "        }\n",
    "        atom_representation = model.atom_model(device_batch)\n",
    "        \n",
    "        # Part 2: Message Passing from atomic nodes to probing nodes\n",
    "        # given that there are many probing nodes, calculations become iterative\n",
    "        density_iter = dataset.DensityGridIterator(density_dict, True, 1000, cutoff)\n",
    "        for probe_graph_dict in density_iter:\n",
    "\n",
    "            probe_dict = dataset.collate_list_of_dicts([probe_graph_dict])\n",
    "            probe_dict = {\n",
    "                k: v.to(device=device, non_blocking=True) for k, v in probe_dict.items()\n",
    "            }\n",
    "            device_batch[\"probe_edges\"] = probe_dict[\"probe_edges\"]\n",
    "            device_batch[\"probe_edges_features\"] = probe_dict[\"probe_edges_features\"]\n",
    "            device_batch[\"num_probe_edges\"] = probe_dict[\"num_probe_edges\"]\n",
    "            device_batch[\"num_probes\"] = probe_dict[\"num_probes\"]\n",
    "\n",
    "            cubewriter.write(bohr2angp3 * model.probe_model(device_batch, atom_representation).cpu().detach().numpy().flatten())\n",
    "        ase.io.write('./cube/{:s}.xyz'.format(i), density_dict['atoms'])\n",
    "        print(\"-- DONE\")\n",
    "        break"
   ]
  },
  {
   "cell_type": "markdown",
   "id": "1dace3d8-273a-47a2-ad24-ef766518f51e",
   "metadata": {},
   "source": [
    "The results can be visualized using different programs. In this case, we will use ChimeraX.\n",
    "\n",
    "<img src=\"movie1.gif\" alt=\"\">"
   ]
  },
  {
   "cell_type": "markdown",
   "id": "4e809434-4761-4a31-9208-e1c6e2ea5ea2",
   "metadata": {},
   "source": [
    "## Ex 2: Calculating electron density at custom coordinates\n",
    "\n"
   ]
  },
  {
   "cell_type": "code",
   "execution_count": 114,
   "id": "5ec8a4b9-c91a-463c-9c37-d04c2fa9373a",
   "metadata": {},
   "outputs": [],
   "source": [
    "def process_arbitrary_coordinates(atoms, r, cutoff):\n",
    "    probe_edges, probe_edge_features = dataset.probes_to_graph(atoms, r, cutoff)\n",
    "    probe_edges = np.concatenate(probe_edges, axis=0)\n",
    "    probe_edge_features = np.concatenate(probe_edge_features, axis=0)[:, None]\n",
    "    num_probe_edges = probe_edges.shape[0]\n",
    "    num_probes = r.shape[0]\n",
    "    probe_dict = dict(\n",
    "        probe_edges=torch.tensor(probe_edges, dtype=torch.long), \n",
    "        probe_edges_features=torch.tensor(probe_edge_features, dtype=torch.float), \n",
    "        num_probe_edges=torch.tensor(num_probe_edges), num_probes=torch.tensor(num_probes)\n",
    "    )\n",
    "    return probe_dict"
   ]
  },
  {
   "cell_type": "code",
   "execution_count": 139,
   "id": "9144396a-8396-4ce0-b453-c0e3780003b3",
   "metadata": {},
   "outputs": [
    {
     "name": "stdout",
     "output_type": "stream",
     "text": [
      "-- DONE\n"
     ]
    }
   ],
   "source": [
    "r = density_dict['atoms'].get_positions().mean(0).reshape(1, 3) + np.random.rand(100, 3) * 3.0\n",
    "\n",
    "with torch.no_grad(): # Disabling gradient calculation is important to avoid memory deplition\n",
    "\n",
    "    density_dict = sugbench[0][1]\n",
    "    \n",
    "    # Part 1: Message Passing between atomic nodes\n",
    "    graph_dict = collate_fn([density_dict])\n",
    "    device_batch = {\n",
    "        k: v.to(device=device, non_blocking=True) for k, v in graph_dict.items()\n",
    "    }\n",
    "    atom_representation = model.atom_model(device_batch)\n",
    "\n",
    "    # Part 2: Message Passing from atomic nodes to probing nodes\n",
    "    # given that there are many probing nodes, calculations become iterative\n",
    "    probe_graph_dict = process_arbitrary_coordinates(density_dict['atoms'], r, cutoff)\n",
    "    probe_dict = dataset.collate_list_of_dicts([probe_graph_dict])\n",
    "    probe_dict = {\n",
    "        k: v.to(device=device, non_blocking=True) for k, v in probe_dict.items()\n",
    "    }\n",
    "    device_batch[\"probe_edges\"] = probe_dict[\"probe_edges\"]\n",
    "    device_batch[\"probe_edges_features\"] = probe_dict[\"probe_edges_features\"]\n",
    "    device_batch[\"num_probe_edges\"] = probe_dict[\"num_probe_edges\"]\n",
    "    device_batch[\"num_probes\"] = probe_dict[\"num_probes\"]\n",
    "    \n",
    "    p = bohr2angp3 * model.probe_model(device_batch, atom_representation).cpu().detach().numpy().flatten()\n",
    "    print(\"-- DONE\")"
   ]
  },
  {
   "cell_type": "code",
   "execution_count": null,
   "id": "5c83bb8f-fb2c-47bc-a5e7-aedd4d24e9f8",
   "metadata": {},
   "outputs": [],
   "source": []
  }
 ],
 "metadata": {
  "kernelspec": {
   "display_name": "Python 3",
   "language": "python",
   "name": "python3"
  },
  "language_info": {
   "codemirror_mode": {
    "name": "ipython",
    "version": 3
   },
   "file_extension": ".py",
   "mimetype": "text/x-python",
   "name": "python",
   "nbconvert_exporter": "python",
   "pygments_lexer": "ipython3",
   "version": "3.9.6"
  }
 },
 "nbformat": 4,
 "nbformat_minor": 5
}
